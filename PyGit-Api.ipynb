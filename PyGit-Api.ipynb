{
 "cells": [
  {
   "cell_type": "markdown",
   "metadata": {},
   "source": [
    "## Python-Github (PyGitHub API for traffic stats)"
   ]
  },
  {
   "cell_type": "code",
   "execution_count": 1,
   "metadata": {},
   "outputs": [],
   "source": [
    "import sys\n",
    "from github import Github\n",
    "import os\n",
    "import pandas as pd\n",
    "import numpy as np\n",
    "from datetime import datetime\n",
    "from openpyxl import load_workbook"
   ]
  },
  {
   "cell_type": "code",
   "execution_count": 2,
   "metadata": {},
   "outputs": [
    {
     "name": "stdout",
     "output_type": "stream",
     "text": [
      "Sample-Repo\n",
      "Test\n"
     ]
    }
   ],
   "source": [
    "g = Github(\"33df2f8540ba7a346e6a6a8100f7fe0d4e267916\")\n",
    "\n",
    "cur_repo = g.get_repo(\"Akash-L/Test\")\n",
    "\n",
    "for repo in g.get_user().get_repos():\n",
    "    print(repo.name)"
   ]
  },
  {
   "cell_type": "code",
   "execution_count": 3,
   "metadata": {},
   "outputs": [
    {
     "name": "stdout",
     "output_type": "stream",
     "text": [
      "Current Repo Name :  Test\n",
      "Total Views:  12\n",
      "Unique Views:  1\n"
     ]
    }
   ],
   "source": [
    "#Overall Views\n",
    "traff = cur_repo.get_views_traffic()\n",
    "df = pd.DataFrame.from_dict(traff, orient='columns')\n",
    "print(\"Current Repo Name : \",cur_repo.name)\n",
    "print(\"Total Views: \",df['count'][0])\n",
    "print(\"Unique Views: \",df['uniques'][0])"
   ]
  },
  {
   "cell_type": "code",
   "execution_count": 4,
   "metadata": {},
   "outputs": [
    {
     "name": "stdout",
     "output_type": "stream",
     "text": [
      "Views Stats: \n",
      "\n"
     ]
    },
    {
     "data": {
      "text/html": [
       "<div>\n",
       "<style scoped>\n",
       "    .dataframe tbody tr th:only-of-type {\n",
       "        vertical-align: middle;\n",
       "    }\n",
       "\n",
       "    .dataframe tbody tr th {\n",
       "        vertical-align: top;\n",
       "    }\n",
       "\n",
       "    .dataframe thead th {\n",
       "        text-align: right;\n",
       "    }\n",
       "</style>\n",
       "<table border=\"1\" class=\"dataframe\">\n",
       "  <thead>\n",
       "    <tr style=\"text-align: right;\">\n",
       "      <th></th>\n",
       "      <th>uniques</th>\n",
       "      <th>timestamp</th>\n",
       "      <th>count</th>\n",
       "    </tr>\n",
       "  </thead>\n",
       "  <tbody>\n",
       "    <tr>\n",
       "      <th>0</th>\n",
       "      <td>1</td>\n",
       "      <td>2020-07-15 00:00:00</td>\n",
       "      <td>12</td>\n",
       "    </tr>\n",
       "  </tbody>\n",
       "</table>\n",
       "</div>"
      ],
      "text/plain": [
       "  uniques             timestamp count\n",
       "0       1   2020-07-15 00:00:00    12"
      ]
     },
     "execution_count": 4,
     "metadata": {},
     "output_type": "execute_result"
    }
   ],
   "source": [
    "#dataframe version of Top  views stats\n",
    "l = cur_repo.get_views_traffic()['views']\n",
    "s=[]\n",
    "for i in l:\n",
    "    s.append(str(i).replace(\"View(\",\"\").replace(\")\",\"\").replace(\"uniques=\",\"\").replace(\"timestamp=\",\"\").replace(\" count=\",\"\"))\n",
    "df_views=pd.DataFrame(s,columns=[\"View\"])\n",
    "df_views[['uniques',\"time\"]]=df_views.View.str.split(\",\", n = 1, expand = True)\n",
    "df_views[['timestamp',\"count\"]]=df_views.time.str.split(\",\", n = 1, expand = True)\n",
    "df_views=df_views[['uniques','timestamp','count']]\n",
    "print(\"Views Stats: \\n\")\n",
    "df_views"
   ]
  },
  {
   "cell_type": "code",
   "execution_count": 11,
   "metadata": {},
   "outputs": [
    {
     "data": {
      "text/html": [
       "<div>\n",
       "<style scoped>\n",
       "    .dataframe tbody tr th:only-of-type {\n",
       "        vertical-align: middle;\n",
       "    }\n",
       "\n",
       "    .dataframe tbody tr th {\n",
       "        vertical-align: top;\n",
       "    }\n",
       "\n",
       "    .dataframe thead th {\n",
       "        text-align: right;\n",
       "    }\n",
       "</style>\n",
       "<table border=\"1\" class=\"dataframe\">\n",
       "  <thead>\n",
       "    <tr style=\"text-align: right;\">\n",
       "      <th></th>\n",
       "      <th>uniques</th>\n",
       "      <th>title</th>\n",
       "      <th>path</th>\n",
       "      <th>count</th>\n",
       "    </tr>\n",
       "  </thead>\n",
       "  <tbody>\n",
       "    <tr>\n",
       "      <th>0</th>\n",
       "      <td>1</td>\n",
       "      <td>\"Akash-L/Test\"</td>\n",
       "      <td>\"/Akash-L/Test\"</td>\n",
       "      <td>2</td>\n",
       "    </tr>\n",
       "    <tr>\n",
       "      <th>1</th>\n",
       "      <td>1</td>\n",
       "      <td>\"Test/file1.zip at master · Akash-L/Test\"</td>\n",
       "      <td>\"/Akash-L/Test/blob/master/file1.zip\"</td>\n",
       "      <td>1</td>\n",
       "    </tr>\n",
       "    <tr>\n",
       "      <th>2</th>\n",
       "      <td>1</td>\n",
       "      <td>\"Test/README.md at master · Akash-L/Test\"</td>\n",
       "      <td>\"/Akash-L/Test/blob/master/README.md\"</td>\n",
       "      <td>1</td>\n",
       "    </tr>\n",
       "    <tr>\n",
       "      <th>3</th>\n",
       "      <td>1</td>\n",
       "      <td>\"Test/file1.txt at master · Akash-L/Test\"</td>\n",
       "      <td>\"/Akash-L/Test/blob/master/Sample/file1.txt\"</td>\n",
       "      <td>1</td>\n",
       "    </tr>\n",
       "    <tr>\n",
       "      <th>4</th>\n",
       "      <td>1</td>\n",
       "      <td>\"Test/file1.zip at master · Akash-L/Test\"</td>\n",
       "      <td>\"/Akash-L/Test/blob/master/Sample/file1.zip\"</td>\n",
       "      <td>1</td>\n",
       "    </tr>\n",
       "    <tr>\n",
       "      <th>5</th>\n",
       "      <td>1</td>\n",
       "      <td>\"Test/git-api.ipynb at master · Akash-L/Test\"</td>\n",
       "      <td>\"/Akash-L/Test/blob/master/Test%20Folder/git-...</td>\n",
       "      <td>1</td>\n",
       "    </tr>\n",
       "    <tr>\n",
       "      <th>6</th>\n",
       "      <td>1</td>\n",
       "      <td>\"Test/git-api-checkpoint.ipynb at master · Ak...</td>\n",
       "      <td>\"/Akash-L/Test/blob/master/Test%20Folder/.ipy...</td>\n",
       "      <td>1</td>\n",
       "    </tr>\n",
       "    <tr>\n",
       "      <th>7</th>\n",
       "      <td>1</td>\n",
       "      <td>\"Test/test.py at master · Akash-L/Test\"</td>\n",
       "      <td>\"/Akash-L/Test/blob/master/Test%20Folder/test...</td>\n",
       "      <td>1</td>\n",
       "    </tr>\n",
       "    <tr>\n",
       "      <th>8</th>\n",
       "      <td>1</td>\n",
       "      <td>\"Test/Sample at master · Akash-L/Test\"</td>\n",
       "      <td>\"/Akash-L/Test/tree/master/Sample\"</td>\n",
       "      <td>1</td>\n",
       "    </tr>\n",
       "    <tr>\n",
       "      <th>9</th>\n",
       "      <td>1</td>\n",
       "      <td>\"Test/Test Folder at master · Akash-L/Test\"</td>\n",
       "      <td>\"/Akash-L/Test/tree/master/Test%20Folder\"</td>\n",
       "      <td>1</td>\n",
       "    </tr>\n",
       "  </tbody>\n",
       "</table>\n",
       "</div>"
      ],
      "text/plain": [
       "  uniques                                              title  \\\n",
       "0       1                                     \"Akash-L/Test\"   \n",
       "1       1          \"Test/file1.zip at master · Akash-L/Test\"   \n",
       "2       1          \"Test/README.md at master · Akash-L/Test\"   \n",
       "3       1          \"Test/file1.txt at master · Akash-L/Test\"   \n",
       "4       1          \"Test/file1.zip at master · Akash-L/Test\"   \n",
       "5       1      \"Test/git-api.ipynb at master · Akash-L/Test\"   \n",
       "6       1   \"Test/git-api-checkpoint.ipynb at master · Ak...   \n",
       "7       1            \"Test/test.py at master · Akash-L/Test\"   \n",
       "8       1             \"Test/Sample at master · Akash-L/Test\"   \n",
       "9       1        \"Test/Test Folder at master · Akash-L/Test\"   \n",
       "\n",
       "                                                path count  \n",
       "0                                    \"/Akash-L/Test\"     2  \n",
       "1              \"/Akash-L/Test/blob/master/file1.zip\"     1  \n",
       "2              \"/Akash-L/Test/blob/master/README.md\"     1  \n",
       "3       \"/Akash-L/Test/blob/master/Sample/file1.txt\"     1  \n",
       "4       \"/Akash-L/Test/blob/master/Sample/file1.zip\"     1  \n",
       "5   \"/Akash-L/Test/blob/master/Test%20Folder/git-...     1  \n",
       "6   \"/Akash-L/Test/blob/master/Test%20Folder/.ipy...     1  \n",
       "7   \"/Akash-L/Test/blob/master/Test%20Folder/test...     1  \n",
       "8                 \"/Akash-L/Test/tree/master/Sample\"     1  \n",
       "9          \"/Akash-L/Test/tree/master/Test%20Folder\"     1  "
      ]
     },
     "execution_count": 11,
     "metadata": {},
     "output_type": "execute_result"
    }
   ],
   "source": [
    "# Top 10 Paths Viewed\n",
    "l=cur_repo.get_top_paths()\n",
    "s=[]\n",
    "for i in l:\n",
    "    s.append(str(i).replace(\"Path(\",\"\").replace(\")\",\"\").replace(\"uniques=\",\"\").replace(\"title=\",\"\").replace(\"path=\",\"\").replace(\"count=\",\"\"))\n",
    "df_top=pd.DataFrame(s,columns=[\"Path\"])\n",
    "\n",
    "df_top[['uniques',\"title\"]]=df_top.Path.str.split(\",\", n = 1, expand = True)\n",
    "df_top[['title',\"path\"]]=df_top.title.str.split(\",\", n = 1, expand = True)\n",
    "df_top[['path',\"count\"]]=df_top.path.str.split(\",\", n = 1, expand = True)\n",
    "df_top=df_top[['uniques','title','path','count']]\n",
    "df_top"
   ]
  },
  {
   "cell_type": "code",
   "execution_count": 12,
   "metadata": {},
   "outputs": [
    {
     "name": "stdout",
     "output_type": "stream",
     "text": [
      "file exists\n",
      "but file was not empty\n"
     ]
    }
   ],
   "source": [
    "# First Pull, if there is no data & everything is empty\n",
    "\n",
    "if(os.path.exists(\"output.xlsx\")):\n",
    "    print(\"file exists\")\n",
    "    df = pd.read_excel(\"output.xlsx\")\n",
    "    if(df.empty):\n",
    "        with pd.ExcelWriter('output.xlsx') as writer:\n",
    "            df_top.to_excel(writer, sheet_name='Top Paths', index=False)\n",
    "            df_views.to_excel(writer, sheet_name='Views',index=False)\n",
    "          #  df_clones.to_excel(writer, sheet_name='Clones',index=False)\n",
    "        writer.save()\n",
    "        print(\" file was empty\")\n",
    "    else:\n",
    "        print(\"but file was not empty\")\n",
    "        \n",
    "else:\n",
    "    import openpyxl\n",
    "    wb = openpyxl.Workbook()\n",
    "    wb.save('output.xlsx')\n",
    "    with pd.ExcelWriter('output.xlsx') as writer:\n",
    "        df_top.to_excel(writer, sheet_name='Top Paths', index=False)\n",
    "        df_views.to_excel(writer, sheet_name='Views',index=False)\n",
    "       # df_clones.to_excel(writer, sheet_name='Clones',index=False)\n",
    "    writer.save()\n",
    "\n",
    "    print(\"file exists and wasn't empty, updated now!\")"
   ]
  },
  {
   "cell_type": "code",
   "execution_count": 13,
   "metadata": {},
   "outputs": [
    {
     "name": "stdout",
     "output_type": "stream",
     "text": [
      "New Top Paths saved\n"
     ]
    },
    {
     "data": {
      "text/html": [
       "<div>\n",
       "<style scoped>\n",
       "    .dataframe tbody tr th:only-of-type {\n",
       "        vertical-align: middle;\n",
       "    }\n",
       "\n",
       "    .dataframe tbody tr th {\n",
       "        vertical-align: top;\n",
       "    }\n",
       "\n",
       "    .dataframe thead th {\n",
       "        text-align: right;\n",
       "    }\n",
       "</style>\n",
       "<table border=\"1\" class=\"dataframe\">\n",
       "  <thead>\n",
       "    <tr style=\"text-align: right;\">\n",
       "      <th></th>\n",
       "      <th>uniques</th>\n",
       "      <th>title</th>\n",
       "      <th>path</th>\n",
       "      <th>count</th>\n",
       "    </tr>\n",
       "  </thead>\n",
       "  <tbody>\n",
       "    <tr>\n",
       "      <th>0</th>\n",
       "      <td>1</td>\n",
       "      <td>\"Akash-L/Test\"</td>\n",
       "      <td>\"/Akash-L/Test\"</td>\n",
       "      <td>2</td>\n",
       "    </tr>\n",
       "    <tr>\n",
       "      <th>1</th>\n",
       "      <td>1</td>\n",
       "      <td>\"Test/file1.zip at master · Akash-L/Test\"</td>\n",
       "      <td>\"/Akash-L/Test/blob/master/file1.zip\"</td>\n",
       "      <td>1</td>\n",
       "    </tr>\n",
       "    <tr>\n",
       "      <th>2</th>\n",
       "      <td>1</td>\n",
       "      <td>\"Test/README.md at master · Akash-L/Test\"</td>\n",
       "      <td>\"/Akash-L/Test/blob/master/README.md\"</td>\n",
       "      <td>1</td>\n",
       "    </tr>\n",
       "    <tr>\n",
       "      <th>3</th>\n",
       "      <td>1</td>\n",
       "      <td>\"Test/file1.txt at master · Akash-L/Test\"</td>\n",
       "      <td>\"/Akash-L/Test/blob/master/Sample/file1.txt\"</td>\n",
       "      <td>1</td>\n",
       "    </tr>\n",
       "    <tr>\n",
       "      <th>4</th>\n",
       "      <td>1</td>\n",
       "      <td>\"Test/file1.zip at master · Akash-L/Test\"</td>\n",
       "      <td>\"/Akash-L/Test/blob/master/Sample/file1.zip\"</td>\n",
       "      <td>1</td>\n",
       "    </tr>\n",
       "    <tr>\n",
       "      <th>5</th>\n",
       "      <td>1</td>\n",
       "      <td>\"Test/git-api.ipynb at master · Akash-L/Test\"</td>\n",
       "      <td>\"/Akash-L/Test/blob/master/Test%20Folder/git-...</td>\n",
       "      <td>1</td>\n",
       "    </tr>\n",
       "    <tr>\n",
       "      <th>6</th>\n",
       "      <td>1</td>\n",
       "      <td>\"Test/git-api-checkpoint.ipynb at master · Ak...</td>\n",
       "      <td>\"/Akash-L/Test/blob/master/Test%20Folder/.ipy...</td>\n",
       "      <td>1</td>\n",
       "    </tr>\n",
       "    <tr>\n",
       "      <th>7</th>\n",
       "      <td>1</td>\n",
       "      <td>\"Test/test.py at master · Akash-L/Test\"</td>\n",
       "      <td>\"/Akash-L/Test/blob/master/Test%20Folder/test...</td>\n",
       "      <td>1</td>\n",
       "    </tr>\n",
       "    <tr>\n",
       "      <th>8</th>\n",
       "      <td>1</td>\n",
       "      <td>\"Test/Sample at master · Akash-L/Test\"</td>\n",
       "      <td>\"/Akash-L/Test/tree/master/Sample\"</td>\n",
       "      <td>1</td>\n",
       "    </tr>\n",
       "    <tr>\n",
       "      <th>9</th>\n",
       "      <td>1</td>\n",
       "      <td>\"Test/Test Folder at master · Akash-L/Test\"</td>\n",
       "      <td>\"/Akash-L/Test/tree/master/Test%20Folder\"</td>\n",
       "      <td>1</td>\n",
       "    </tr>\n",
       "  </tbody>\n",
       "</table>\n",
       "</div>"
      ],
      "text/plain": [
       "  uniques                                              title  \\\n",
       "0       1                                     \"Akash-L/Test\"   \n",
       "1       1          \"Test/file1.zip at master · Akash-L/Test\"   \n",
       "2       1          \"Test/README.md at master · Akash-L/Test\"   \n",
       "3       1          \"Test/file1.txt at master · Akash-L/Test\"   \n",
       "4       1          \"Test/file1.zip at master · Akash-L/Test\"   \n",
       "5       1      \"Test/git-api.ipynb at master · Akash-L/Test\"   \n",
       "6       1   \"Test/git-api-checkpoint.ipynb at master · Ak...   \n",
       "7       1            \"Test/test.py at master · Akash-L/Test\"   \n",
       "8       1             \"Test/Sample at master · Akash-L/Test\"   \n",
       "9       1        \"Test/Test Folder at master · Akash-L/Test\"   \n",
       "\n",
       "                                                path count  \n",
       "0                                    \"/Akash-L/Test\"     2  \n",
       "1              \"/Akash-L/Test/blob/master/file1.zip\"     1  \n",
       "2              \"/Akash-L/Test/blob/master/README.md\"     1  \n",
       "3       \"/Akash-L/Test/blob/master/Sample/file1.txt\"     1  \n",
       "4       \"/Akash-L/Test/blob/master/Sample/file1.zip\"     1  \n",
       "5   \"/Akash-L/Test/blob/master/Test%20Folder/git-...     1  \n",
       "6   \"/Akash-L/Test/blob/master/Test%20Folder/.ipy...     1  \n",
       "7   \"/Akash-L/Test/blob/master/Test%20Folder/test...     1  \n",
       "8                 \"/Akash-L/Test/tree/master/Sample\"     1  \n",
       "9          \"/Akash-L/Test/tree/master/Test%20Folder\"     1  "
      ]
     },
     "execution_count": 13,
     "metadata": {},
     "output_type": "execute_result"
    }
   ],
   "source": [
    "#Write Top paths to excel, update everytime the notebook is run with latest counts\n",
    "\n",
    "import pandas\n",
    "book = load_workbook('output.xlsx')\n",
    "writer = pandas.ExcelWriter('output.xlsx', engine='openpyxl')\n",
    "writer.book = book\n",
    "writer.sheets = dict((ws.title, ws) for ws in book.worksheets)\n",
    "df_top.to_excel(writer, sheet_name=\"Top Paths\", index=False)\n",
    "writer.save()\n",
    "print(\"New Top Paths saved\")\n",
    "df_top"
   ]
  },
  {
   "cell_type": "code",
   "execution_count": 14,
   "metadata": {},
   "outputs": [
    {
     "data": {
      "text/html": [
       "<div>\n",
       "<style scoped>\n",
       "    .dataframe tbody tr th:only-of-type {\n",
       "        vertical-align: middle;\n",
       "    }\n",
       "\n",
       "    .dataframe tbody tr th {\n",
       "        vertical-align: top;\n",
       "    }\n",
       "\n",
       "    .dataframe thead th {\n",
       "        text-align: right;\n",
       "    }\n",
       "</style>\n",
       "<table border=\"1\" class=\"dataframe\">\n",
       "  <thead>\n",
       "    <tr style=\"text-align: right;\">\n",
       "      <th></th>\n",
       "      <th>uniques</th>\n",
       "      <th>timestamp</th>\n",
       "      <th>count</th>\n",
       "    </tr>\n",
       "  </thead>\n",
       "  <tbody>\n",
       "    <tr>\n",
       "      <th>0</th>\n",
       "      <td>1</td>\n",
       "      <td>2020-07-15 00:00:00</td>\n",
       "      <td>12</td>\n",
       "    </tr>\n",
       "  </tbody>\n",
       "</table>\n",
       "</div>"
      ],
      "text/plain": [
       "   uniques             timestamp  count\n",
       "0        1   2020-07-15 00:00:00     12"
      ]
     },
     "execution_count": 14,
     "metadata": {},
     "output_type": "execute_result"
    }
   ],
   "source": [
    "#read each sheet of the \n",
    "xls = pd.ExcelFile('output.xlsx')\n",
    "df1 = pd.read_excel(xls, 'Top Paths')\n",
    "df2 = pd.read_excel(xls, 'Views')\n",
    "#df3 = pd.read_excel(xls, 'Clones')\n",
    "df2"
   ]
  },
  {
   "cell_type": "code",
   "execution_count": 18,
   "metadata": {},
   "outputs": [
    {
     "data": {
      "text/plain": [
       "(array([datetime.datetime(2020, 7, 15, 0, 0)], dtype=object),\n",
       " array([datetime.datetime(2020, 7, 15, 0, 0)], dtype=object))"
      ]
     },
     "execution_count": 18,
     "metadata": {},
     "output_type": "execute_result"
    }
   ],
   "source": [
    "# Compare datetime and push new dates \n",
    "d1= pd.to_datetime(df_views['timestamp'].tail(1)).dt.to_pydatetime()\n",
    "d2= pd.to_datetime(df2['timestamp'].tail(1)).dt.to_pydatetime()\n",
    "d1,d2"
   ]
  },
  {
   "cell_type": "code",
   "execution_count": 19,
   "metadata": {},
   "outputs": [],
   "source": [
    "#d3= pd.to_datetime(df_clones['timestamp'].tail(1)).dt.to_pydatetime()\n",
    "#d4= pd.to_datetime(df3['timestamp'].tail(1)).dt.to_pydatetime()\n",
    "#d3,d4"
   ]
  },
  {
   "cell_type": "code",
   "execution_count": 20,
   "metadata": {},
   "outputs": [
    {
     "name": "stdout",
     "output_type": "stream",
     "text": [
      "Dates of views in sync\n"
     ]
    }
   ],
   "source": [
    "flg1=0\n",
    "if(bool(d1-d2)==False):\n",
    "    print(\"Dates of views in sync\")\n",
    "else:\n",
    "    print(\"Dates of views not in sync\")\n",
    "    flg1=1"
   ]
  },
  {
   "cell_type": "code",
   "execution_count": 22,
   "metadata": {},
   "outputs": [],
   "source": [
    "#flg2=0\n",
    "#if(bool(d3-d4)==False):\n",
    "#   print(\"Dates of clones in sync\")\n",
    "#else:\n",
    "#    print(\"Dates of clones not in sync\")\n",
    "#    flg2=1"
   ]
  },
  {
   "cell_type": "code",
   "execution_count": 25,
   "metadata": {},
   "outputs": [],
   "source": [
    "#update sheets based on new dates and stats\n",
    "\n",
    "if(flg1==1):\n",
    "    book = load_workbook('output.xlsx')\n",
    "    writer = pandas.ExcelWriter('output.xlsx', engine='openpyxl')\n",
    "    writer.book = book\n",
    "    writer.sheets = {ws.title: ws for ws in book.worksheets}\n",
    "    writer.sheets\n",
    "    for sheetname in writer.sheets:\n",
    "        if(sheetname=='Views'): #this part can be modified based on each excel sheet\n",
    "            df_views.tail(1).to_excel(writer,sheet_name=sheetname, startrow=writer.sheets[sheetname].max_row, index = False,header= False)\n",
    "    writer.save()\n",
    "    print(\"Sheet Updated\")"
   ]
  },
  {
   "cell_type": "code",
   "execution_count": 26,
   "metadata": {},
   "outputs": [],
   "source": [
    "#if(flg2==1):\n",
    " #   book = load_workbook('output.xlsx')\n",
    " #   writer = pandas.ExcelWriter('output.xlsx', engine='openpyxl')\n",
    " #   writer.book = book\n",
    " #   writer.sheets = {ws.title: ws for ws in book.worksheets}\n",
    " #   writer.sheets\n",
    " #   for sheetname in writer.sheets:\n",
    " #       if(sheetname=='Clones'): #this part can be modified based on each excel sheet\n",
    " #           df_clones.tail(1).to_excel(writer,sheet_name=sheetname, startrow=writer.sheets[sheetname].max_row, index = False,header= False)\n",
    " #   writer.save()\n",
    " #   print(\"Sheet Updated\")"
   ]
  },
  {
   "cell_type": "code",
   "execution_count": 27,
   "metadata": {},
   "outputs": [
    {
     "data": {
      "text/html": [
       "<div>\n",
       "<style scoped>\n",
       "    .dataframe tbody tr th:only-of-type {\n",
       "        vertical-align: middle;\n",
       "    }\n",
       "\n",
       "    .dataframe tbody tr th {\n",
       "        vertical-align: top;\n",
       "    }\n",
       "\n",
       "    .dataframe thead th {\n",
       "        text-align: right;\n",
       "    }\n",
       "</style>\n",
       "<table border=\"1\" class=\"dataframe\">\n",
       "  <thead>\n",
       "    <tr style=\"text-align: right;\">\n",
       "      <th></th>\n",
       "      <th>uniques</th>\n",
       "      <th>title</th>\n",
       "      <th>path</th>\n",
       "      <th>count</th>\n",
       "    </tr>\n",
       "  </thead>\n",
       "  <tbody>\n",
       "    <tr>\n",
       "      <th>0</th>\n",
       "      <td>1</td>\n",
       "      <td>\"Akash-L/Test\"</td>\n",
       "      <td>\"/Akash-L/Test\"</td>\n",
       "      <td>2</td>\n",
       "    </tr>\n",
       "    <tr>\n",
       "      <th>1</th>\n",
       "      <td>1</td>\n",
       "      <td>\"Test/file1.zip at master · Akash-L/Test\"</td>\n",
       "      <td>\"/Akash-L/Test/blob/master/file1.zip\"</td>\n",
       "      <td>1</td>\n",
       "    </tr>\n",
       "    <tr>\n",
       "      <th>2</th>\n",
       "      <td>1</td>\n",
       "      <td>\"Test/README.md at master · Akash-L/Test\"</td>\n",
       "      <td>\"/Akash-L/Test/blob/master/README.md\"</td>\n",
       "      <td>1</td>\n",
       "    </tr>\n",
       "    <tr>\n",
       "      <th>3</th>\n",
       "      <td>1</td>\n",
       "      <td>\"Test/file1.txt at master · Akash-L/Test\"</td>\n",
       "      <td>\"/Akash-L/Test/blob/master/Sample/file1.txt\"</td>\n",
       "      <td>1</td>\n",
       "    </tr>\n",
       "    <tr>\n",
       "      <th>4</th>\n",
       "      <td>1</td>\n",
       "      <td>\"Test/file1.zip at master · Akash-L/Test\"</td>\n",
       "      <td>\"/Akash-L/Test/blob/master/Sample/file1.zip\"</td>\n",
       "      <td>1</td>\n",
       "    </tr>\n",
       "    <tr>\n",
       "      <th>5</th>\n",
       "      <td>1</td>\n",
       "      <td>\"Test/git-api.ipynb at master · Akash-L/Test\"</td>\n",
       "      <td>\"/Akash-L/Test/blob/master/Test%20Folder/git-...</td>\n",
       "      <td>1</td>\n",
       "    </tr>\n",
       "    <tr>\n",
       "      <th>6</th>\n",
       "      <td>1</td>\n",
       "      <td>\"Test/git-api-checkpoint.ipynb at master · Ak...</td>\n",
       "      <td>\"/Akash-L/Test/blob/master/Test%20Folder/.ipy...</td>\n",
       "      <td>1</td>\n",
       "    </tr>\n",
       "    <tr>\n",
       "      <th>7</th>\n",
       "      <td>1</td>\n",
       "      <td>\"Test/test.py at master · Akash-L/Test\"</td>\n",
       "      <td>\"/Akash-L/Test/blob/master/Test%20Folder/test...</td>\n",
       "      <td>1</td>\n",
       "    </tr>\n",
       "    <tr>\n",
       "      <th>8</th>\n",
       "      <td>1</td>\n",
       "      <td>\"Test/Sample at master · Akash-L/Test\"</td>\n",
       "      <td>\"/Akash-L/Test/tree/master/Sample\"</td>\n",
       "      <td>1</td>\n",
       "    </tr>\n",
       "    <tr>\n",
       "      <th>9</th>\n",
       "      <td>1</td>\n",
       "      <td>\"Test/Test Folder at master · Akash-L/Test\"</td>\n",
       "      <td>\"/Akash-L/Test/tree/master/Test%20Folder\"</td>\n",
       "      <td>1</td>\n",
       "    </tr>\n",
       "  </tbody>\n",
       "</table>\n",
       "</div>"
      ],
      "text/plain": [
       "   uniques                                              title  \\\n",
       "0        1                                     \"Akash-L/Test\"   \n",
       "1        1          \"Test/file1.zip at master · Akash-L/Test\"   \n",
       "2        1          \"Test/README.md at master · Akash-L/Test\"   \n",
       "3        1          \"Test/file1.txt at master · Akash-L/Test\"   \n",
       "4        1          \"Test/file1.zip at master · Akash-L/Test\"   \n",
       "5        1      \"Test/git-api.ipynb at master · Akash-L/Test\"   \n",
       "6        1   \"Test/git-api-checkpoint.ipynb at master · Ak...   \n",
       "7        1            \"Test/test.py at master · Akash-L/Test\"   \n",
       "8        1             \"Test/Sample at master · Akash-L/Test\"   \n",
       "9        1        \"Test/Test Folder at master · Akash-L/Test\"   \n",
       "\n",
       "                                                path  count  \n",
       "0                                    \"/Akash-L/Test\"      2  \n",
       "1              \"/Akash-L/Test/blob/master/file1.zip\"      1  \n",
       "2              \"/Akash-L/Test/blob/master/README.md\"      1  \n",
       "3       \"/Akash-L/Test/blob/master/Sample/file1.txt\"      1  \n",
       "4       \"/Akash-L/Test/blob/master/Sample/file1.zip\"      1  \n",
       "5   \"/Akash-L/Test/blob/master/Test%20Folder/git-...      1  \n",
       "6   \"/Akash-L/Test/blob/master/Test%20Folder/.ipy...      1  \n",
       "7   \"/Akash-L/Test/blob/master/Test%20Folder/test...      1  \n",
       "8                 \"/Akash-L/Test/tree/master/Sample\"      1  \n",
       "9          \"/Akash-L/Test/tree/master/Test%20Folder\"      1  "
      ]
     },
     "execution_count": 27,
     "metadata": {},
     "output_type": "execute_result"
    }
   ],
   "source": [
    "xls = pd.ExcelFile('output.xlsx')\n",
    "df1= pd.read_excel(xls,'Top Paths')\n",
    "df2 = pd.read_excel(xls, 'Views')\n",
    "#df3 = pd.read_excel(xls, 'Clones')\n",
    "df1"
   ]
  },
  {
   "cell_type": "code",
   "execution_count": 28,
   "metadata": {},
   "outputs": [
    {
     "data": {
      "text/html": [
       "<div>\n",
       "<style scoped>\n",
       "    .dataframe tbody tr th:only-of-type {\n",
       "        vertical-align: middle;\n",
       "    }\n",
       "\n",
       "    .dataframe tbody tr th {\n",
       "        vertical-align: top;\n",
       "    }\n",
       "\n",
       "    .dataframe thead th {\n",
       "        text-align: right;\n",
       "    }\n",
       "</style>\n",
       "<table border=\"1\" class=\"dataframe\">\n",
       "  <thead>\n",
       "    <tr style=\"text-align: right;\">\n",
       "      <th></th>\n",
       "      <th>uniques</th>\n",
       "      <th>timestamp</th>\n",
       "      <th>count</th>\n",
       "    </tr>\n",
       "  </thead>\n",
       "  <tbody>\n",
       "    <tr>\n",
       "      <th>0</th>\n",
       "      <td>1</td>\n",
       "      <td>2020-07-15 00:00:00</td>\n",
       "      <td>12</td>\n",
       "    </tr>\n",
       "  </tbody>\n",
       "</table>\n",
       "</div>"
      ],
      "text/plain": [
       "   uniques             timestamp  count\n",
       "0        1   2020-07-15 00:00:00     12"
      ]
     },
     "execution_count": 28,
     "metadata": {},
     "output_type": "execute_result"
    }
   ],
   "source": [
    "df2"
   ]
  }
 ],
 "metadata": {
  "kernelspec": {
   "display_name": "Python 3",
   "language": "python",
   "name": "python3"
  },
  "language_info": {
   "codemirror_mode": {
    "name": "ipython",
    "version": 3
   },
   "file_extension": ".py",
   "mimetype": "text/x-python",
   "name": "python",
   "nbconvert_exporter": "python",
   "pygments_lexer": "ipython3",
   "version": "3.7.1"
  }
 },
 "nbformat": 4,
 "nbformat_minor": 2
}
